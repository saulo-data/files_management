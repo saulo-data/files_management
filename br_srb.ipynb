{
 "cells": [
  {
   "cell_type": "markdown",
   "id": "dbfd7714-815e-4817-b63e-c43c5e0da745",
   "metadata": {},
   "source": [
    "# Coleta de Imagens para análise da partida entre Brasil e Sérvia pela Copa do Catar 2022"
   ]
  },
  {
   "cell_type": "markdown",
   "id": "586b777d-351a-4451-882c-dde0952da83f",
   "metadata": {},
   "source": [
    "## Importação das Bilbiotecas"
   ]
  },
  {
   "cell_type": "code",
   "execution_count": null,
   "id": "c727e1ef-a87f-47ee-9b14-4c8b9b8aa0fc",
   "metadata": {},
   "outputs": [],
   "source": [
    "import cv2 as cv\n",
    "import matplotlib.pyplot as plt\n",
    "import numpy as np\n",
    "import math\n",
    "from PIL import Image\n",
    "import os\n",
    "from moviepy.editor import *\n",
    "from natsort import natsorted"
   ]
  },
  {
   "cell_type": "markdown",
   "id": "cd843882-f115-49fb-a7a7-36287ba7ba42",
   "metadata": {},
   "source": [
    "## Captura do Vídeo"
   ]
  },
  {
   "cell_type": "code",
   "execution_count": null,
   "id": "7b89f7df-2126-4699-b5ca-3508206912b5",
   "metadata": {},
   "outputs": [],
   "source": [
    "filename = 'your_video'\n",
    "video = cv.VideoCapture(filename)\n",
    "n_frames = int(video.get(cv.CAP_PROP_FRAME_COUNT))"
   ]
  },
  {
   "cell_type": "code",
   "execution_count": null,
   "id": "6b6e30dc-55a6-4b14-b4a5-69fcf67e74ce",
   "metadata": {},
   "outputs": [],
   "source": [
    "n_frames"
   ]
  },
  {
   "cell_type": "code",
   "execution_count": null,
   "id": "35d98eb3-2558-4ef0-bab6-de2acad2f002",
   "metadata": {},
   "outputs": [],
   "source": [
    "root = int(np.round(math.sqrt(n_frames/100)))\n",
    "root"
   ]
  },
  {
   "cell_type": "markdown",
   "id": "4c49d958-7f65-464f-a7ee-38db8e3151a1",
   "metadata": {},
   "source": [
    "## Exibição das Imagens"
   ]
  },
  {
   "cell_type": "code",
   "execution_count": null,
   "id": "a0ca3bf7-b61b-4d37-98d9-8cb9264594f7",
   "metadata": {},
   "outputs": [],
   "source": [
    "fig, axs = plt.subplots(root+1, root, figsize=(30, 20))\n",
    "axs = axs.flatten()\n",
    "\n",
    "img_idx = 0\n",
    "for frame in range(n_frames):\n",
    "    ret, img = video.read()\n",
    "    if ret == False:\n",
    "        break\n",
    "    if np.round(frame) % 100 == 0:\n",
    "        axs[img_idx].imshow(cv.cvtColor(img, cv.COLOR_BGR2RGB))\n",
    "        axs[img_idx].set_title(f'Frame: {frame} | Index: {img_idx}')\n",
    "        axs[img_idx].axis('off')\n",
    "        img_idx += 1\n",
    "\n",
    "plt.tight_layout()\n",
    "plt.show()\n",
    "video.release()"
   ]
  },
  {
   "cell_type": "code",
   "execution_count": null,
   "id": "ea91c783-a8dc-4343-9d78-0e9915c0c3cd",
   "metadata": {},
   "outputs": [],
   "source": [
    "video = cv.VideoCapture(filename)\n",
    "n_frames = int(video.get(cv.CAP_PROP_FRAME_COUNT))\n",
    "\n",
    "for frame in range(n_frames):\n",
    "    ret, img = video.read()\n",
    "    if ret == False:\n",
    "        break\n",
    "    if frame == 2550:\n",
    "        break\n",
    "\n",
    "plt.figure(figsize=(15, 12))        \n",
    "plt.imshow(cv.cvtColor(img, cv.COLOR_BGR2RGB))\n",
    "plt.axis('off');\n",
    "\n",
    "video.release()"
   ]
  },
  {
   "cell_type": "markdown",
   "id": "9ce455d2-a243-4b6e-93a2-f30969b5cb29",
   "metadata": {},
   "source": [
    "## Salvar as Imagens"
   ]
  },
  {
   "cell_type": "code",
   "execution_count": null,
   "id": "fe6c23d7-d5ec-424a-a0ae-8a2cc95aacee",
   "metadata": {},
   "outputs": [],
   "source": [
    "video = cv.VideoCapture(filename)\n",
    "n_frames = int(video.get(cv.CAP_PROP_FRAME_COUNT))\n",
    "\n",
    "img_idx = 0\n",
    "for frame in range(n_frames):\n",
    "    ret, img = video.read()\n",
    "    if ret == False:\n",
    "        break\n",
    "    if (frame >= 2500) & (frame <= 2600):\n",
    "        cv.imwrite(f'images/{img_idx}.png', img)\n",
    "        img_idx += 1\n",
    "\n",
    "\n",
    "video.release()"
   ]
  },
  {
   "cell_type": "markdown",
   "id": "99f9cf7c-8c88-427a-a976-13bfebb8011d",
   "metadata": {},
   "source": [
    "## Produzir um Vídeo a partir das imagens"
   ]
  },
  {
   "cell_type": "code",
   "execution_count": null,
   "id": "75840b2a-b382-4c4a-bee2-98a8d3816dfd",
   "metadata": {},
   "outputs": [],
   "source": [
    "img_clips = []\n",
    "path_list=[]\n",
    "\n",
    "\n",
    "for image in natsorted(os.listdir('images/')):\n",
    "    if image.endswith(\".png\"):\n",
    "        path_list.append(os.path.join('images/', image))\n",
    "\n",
    "\n",
    "for img_path in path_list:\n",
    "    slide = ImageClip(img_path,duration=0.1)\n",
    "    img_clips.append(slide)\n",
    "\n",
    "\n",
    "video_slides = concatenate_videoclips(img_clips, method='compose')\n",
    "video_slides.write_videofile(\"video/output_video.mp4\", fps=30)"
   ]
  }
 ],
 "metadata": {
  "kernelspec": {
   "display_name": "Python 3 (ipykernel)",
   "language": "python",
   "name": "python3"
  },
  "language_info": {
   "codemirror_mode": {
    "name": "ipython",
    "version": 3
   },
   "file_extension": ".py",
   "mimetype": "text/x-python",
   "name": "python",
   "nbconvert_exporter": "python",
   "pygments_lexer": "ipython3",
   "version": "3.9.15"
  }
 },
 "nbformat": 4,
 "nbformat_minor": 5
}
